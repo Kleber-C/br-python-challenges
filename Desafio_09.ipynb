{
  "nbformat": 4,
  "nbformat_minor": 0,
  "metadata": {
    "anaconda-cloud": {},
    "kernelspec": {
      "display_name": "Python 3",
      "language": "python",
      "name": "python3"
    },
    "language_info": {
      "codemirror_mode": {
        "name": "ipython",
        "version": 3
      },
      "file_extension": ".py",
      "mimetype": "text/x-python",
      "name": "python",
      "nbconvert_exporter": "python",
      "pygments_lexer": "ipython3",
      "version": "3.6.5"
    },
    "colab": {
      "name": "Desafio 9.ipynb",
      "provenance": [],
      "include_colab_link": true
    }
  },
  "cells": [
    {
      "cell_type": "markdown",
      "metadata": {
        "id": "view-in-github",
        "colab_type": "text"
      },
      "source": [
        "<a href=\"https://colab.research.google.com/github/Kleber-C/br-python-challenges/blob/master/Desafio_09.ipynb\" target=\"_parent\"><img src=\"https://colab.research.google.com/assets/colab-badge.svg\" alt=\"Open In Colab\"/></a>"
      ]
    },
    {
      "cell_type": "markdown",
      "metadata": {
        "id": "HpvTpUBGf6Jr"
      },
      "source": [
        "### Desafio 9\n",
        "\n",
        "Escreva uma função que retorne a soma dos múltiplos de 3 e 5 entre 0 e um número limite (parâmetro). Por exemplo, se o limite for 20, ele retornará a soma de 3, 5, 6, 9, 10, 12, 15, 18, 20."
      ]
    },
    {
      "cell_type": "code",
      "metadata": {
        "id": "195C6bw-f6Js"
      },
      "source": [
        "# Seu código"
      ],
      "execution_count": null,
      "outputs": []
    },
    {
      "cell_type": "code",
      "metadata": {
        "id": "a_6aqcKp6wrN"
      },
      "source": [
        "def multiplos(limite):\n",
        "  lista = []\n",
        "  for i in range(limite):\n",
        "    x = i*3\n",
        "    y = i*5\n",
        "    lista.append(x)\n",
        "    lista.append(y)\n",
        "  lista_limitada = sorted(i for i in lista if i <=limite)\n",
        "  lista_soma = sum(lista_limitada)\n",
        "  return lista_soma"
      ],
      "execution_count": 1,
      "outputs": []
    },
    {
      "cell_type": "code",
      "metadata": {
        "id": "23hkZpxCgv2Y",
        "outputId": "c8438b8a-425b-473f-f41f-31c9c41696e4",
        "colab": {
          "base_uri": "https://localhost:8080/",
          "height": 34
        }
      },
      "source": [
        "multiplos(40)"
      ],
      "execution_count": 2,
      "outputs": [
        {
          "output_type": "execute_result",
          "data": {
            "text/plain": [
              "453"
            ]
          },
          "metadata": {
            "tags": []
          },
          "execution_count": 2
        }
      ]
    }
  ]
}